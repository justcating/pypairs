{
  "nbformat": 4,
  "nbformat_minor": 0,
  "metadata": {
    "colab": {
      "provenance": [],
      "toc_visible": true,
      "include_colab_link": true
    },
    "kernelspec": {
      "name": "python3",
      "display_name": "Python 3"
    },
    "language_info": {
      "name": "python"
    }
  },
  "cells": [
    {
      "cell_type": "markdown",
      "metadata": {
        "id": "view-in-github",
        "colab_type": "text"
      },
      "source": [
        "<a href=\"https://colab.research.google.com/github/justcating/pypairs/blob/main/%D0%94%D0%97_2.ipynb\" target=\"_parent\"><img src=\"https://colab.research.google.com/assets/colab-badge.svg\" alt=\"Open In Colab\"/></a>"
      ]
    },
    {
      "cell_type": "markdown",
      "source": [
        "Імпортуйте модуль numpy"
      ],
      "metadata": {
        "id": "tk2sNnUDkXK9"
      }
    },
    {
      "cell_type": "code",
      "source": [
        "import numpy as np"
      ],
      "metadata": {
        "id": "1QbCsQ62kUmZ"
      },
      "execution_count": 1,
      "outputs": []
    },
    {
      "cell_type": "markdown",
      "source": [
        "#Завдання 1\n",
        "\n",
        "Створіть масив з парними числами між 30 і 70"
      ],
      "metadata": {
        "id": "ZVC4Yb3JZFO1"
      }
    },
    {
      "cell_type": "code",
      "source": [
        "b = np.arange(30, 70)\n",
        "\n",
        "b[b % 2 == 0]"
      ],
      "metadata": {
        "id": "aunm4Jm_hUkL",
        "outputId": "77f2341d-9c32-44cd-aaaa-68437b21ddd6",
        "colab": {
          "base_uri": "https://localhost:8080/"
        }
      },
      "execution_count": 10,
      "outputs": [
        {
          "output_type": "execute_result",
          "data": {
            "text/plain": [
              "array([30, 32, 34, 36, 38, 40, 42, 44, 46, 48, 50, 52, 54, 56, 58, 60, 62,\n",
              "       64, 66, 68])"
            ]
          },
          "metadata": {},
          "execution_count": 10
        }
      ]
    },
    {
      "cell_type": "markdown",
      "source": [
        "#Завдання 2\n",
        "Створіть масив з 10 числами між 0(включно) та 1(не включно) див документацію np.linspace"
      ],
      "metadata": {
        "id": "UDSLr3f0b31r"
      }
    },
    {
      "cell_type": "code",
      "source": [
        "np.linspace(0, 0.9, 10)"
      ],
      "metadata": {
        "id": "w7iNkGd_hUM-",
        "outputId": "c7842329-71e8-4545-a9d0-fdde8877934d",
        "colab": {
          "base_uri": "https://localhost:8080/"
        }
      },
      "execution_count": 9,
      "outputs": [
        {
          "output_type": "execute_result",
          "data": {
            "text/plain": [
              "array([0. , 0.1, 0.2, 0.3, 0.4, 0.5, 0.6, 0.7, 0.8, 0.9])"
            ]
          },
          "metadata": {},
          "execution_count": 9
        }
      ]
    },
    {
      "cell_type": "markdown",
      "source": [
        "#Завдання 4\n",
        "Напишіть функцію яка приймає матрицю розміру nxn та повертає матрицю розміру (n+2) x (n+2), на краях якої розміщенні 0."
      ],
      "metadata": {
        "id": "rtWKmLWhYi_j"
      }
    },
    {
      "cell_type": "code",
      "source": [
        "def generate(matrix):\n",
        "    n = matrix.shape[0]\n",
        "    matrix_new = np.zeros((n+2, n+2), dtype=matrix.dtype)\n",
        "    matrix_new[1: n+1, 1: n+1] = matrix\n",
        "    return matrix_new\n",
        "\n",
        "\n",
        "matrix = np.array([ [1,2],\n",
        "                    [3,4]])\n",
        "\n",
        "generate(matrix)"
      ],
      "metadata": {
        "id": "mU7vjsnqhVfk",
        "colab": {
          "base_uri": "https://localhost:8080/"
        },
        "outputId": "c0ca22bc-cd6f-4683-e7d4-9b54b44b6d9a"
      },
      "execution_count": 4,
      "outputs": [
        {
          "output_type": "execute_result",
          "data": {
            "text/plain": [
              "array([[0, 0, 0, 0],\n",
              "       [0, 1, 2, 0],\n",
              "       [0, 3, 4, 0],\n",
              "       [0, 0, 0, 0]])"
            ]
          },
          "metadata": {},
          "execution_count": 4
        }
      ]
    },
    {
      "cell_type": "markdown",
      "source": [
        "#Завдання 5\n",
        "У попередьньому масиві змініть тип даних. Виведіть тип даних до та після зміни"
      ],
      "metadata": {
        "id": "ok_hMAEJa9oh"
      }
    },
    {
      "cell_type": "code",
      "source": [
        "n = generate(matrix)\n",
        "nFloat = n.astype('float32')\n",
        "\n",
        "print(n.dtype)\n",
        "print(nFloat.dtype)\n"
      ],
      "metadata": {
        "id": "vYlj3r3ShV98",
        "outputId": "1797cd3e-5833-4e4a-aa02-62dece303c35",
        "colab": {
          "base_uri": "https://localhost:8080/"
        }
      },
      "execution_count": 7,
      "outputs": [
        {
          "output_type": "stream",
          "name": "stdout",
          "text": [
            "int64\n",
            "float32\n"
          ]
        }
      ]
    },
    {
      "cell_type": "markdown",
      "source": [
        "#Завдання 6\n",
        "У даному масиві замініть елементи, які дорівнюють\\більші\\менші за var на -1"
      ],
      "metadata": {
        "id": "aR7TWyqgZUDg"
      }
    },
    {
      "cell_type": "code",
      "source": [
        "x = np.array([1, 5, 3, 8, 6, 5, 7, 4])\n",
        "var = 5"
      ],
      "metadata": {
        "id": "oPzL69Fbg2Wq"
      },
      "execution_count": 12,
      "outputs": []
    },
    {
      "cell_type": "code",
      "source": [
        "x[x == var] = -1\n",
        "x"
      ],
      "metadata": {
        "id": "X1JtOFpyzqSC",
        "outputId": "82204ae3-5946-409c-dba9-8eeac4ff0c3c",
        "colab": {
          "base_uri": "https://localhost:8080/"
        }
      },
      "execution_count": 15,
      "outputs": [
        {
          "output_type": "execute_result",
          "data": {
            "text/plain": [
              "array([ 1, -1,  3,  8,  6, -1,  7,  4])"
            ]
          },
          "metadata": {},
          "execution_count": 15
        }
      ]
    },
    {
      "cell_type": "code",
      "source": [
        "x[x > var] = -1\n",
        "x"
      ],
      "metadata": {
        "id": "rZcYNoVizubx",
        "outputId": "84355359-a871-433c-a964-a54654e67437",
        "colab": {
          "base_uri": "https://localhost:8080/"
        }
      },
      "execution_count": 17,
      "outputs": [
        {
          "output_type": "execute_result",
          "data": {
            "text/plain": [
              "array([ 1, -1,  3, -1, -1, -1, -1,  4])"
            ]
          },
          "metadata": {},
          "execution_count": 17
        }
      ]
    },
    {
      "cell_type": "code",
      "source": [
        "x[x < var] = -1\n",
        "x"
      ],
      "metadata": {
        "id": "KVLZ0UorzuP5",
        "outputId": "4051f07d-f336-456b-f546-b1b985570508",
        "colab": {
          "base_uri": "https://localhost:8080/"
        }
      },
      "execution_count": 18,
      "outputs": [
        {
          "output_type": "execute_result",
          "data": {
            "text/plain": [
              "array([-1, -1, -1, -1, -1, -1, -1, -1])"
            ]
          },
          "metadata": {},
          "execution_count": 18
        }
      ]
    },
    {
      "cell_type": "markdown",
      "source": [
        "#Завдання 7\n",
        "Замініть пропущені значення матриці(np.nan) на -1\n",
        "\n",
        "Дивись np.isnan"
      ],
      "metadata": {
        "id": "Ks3Rtc7kajMJ"
      }
    },
    {
      "cell_type": "code",
      "source": [
        "X = np.array([[1, 2, np.nan, 4],\n",
        "              [5, np.nan, np.nan, 4],\n",
        "              [np.nan, 10, 11, np.nan]])\n",
        "\n",
        "\n",
        "\n",
        "X[np.isnan(X)] = -1\n",
        "X"
      ],
      "metadata": {
        "id": "Rr8CdINEg3Rj",
        "colab": {
          "base_uri": "https://localhost:8080/"
        },
        "outputId": "3c198bda-b6db-434e-cec5-5557017d13c2"
      },
      "execution_count": 21,
      "outputs": [
        {
          "output_type": "execute_result",
          "data": {
            "text/plain": [
              "array([[ 1.,  2., -1.,  4.],\n",
              "       [ 5., -1., -1.,  4.],\n",
              "       [-1., 10., 11., -1.]])"
            ]
          },
          "metadata": {},
          "execution_count": 21
        }
      ]
    },
    {
      "cell_type": "markdown",
      "source": [
        "#Завдання 8\n",
        "Створіть матрицю розміру 4х6 з випадковими числами. Змініть її розмір на 3х8"
      ],
      "metadata": {
        "id": "teYwjikMa0gs"
      }
    },
    {
      "cell_type": "code",
      "source": [
        "array = np.random.randint(1, 10, (4,6))\n",
        "array.reshape(3,8)"
      ],
      "metadata": {
        "id": "JhNvUJwxhXED",
        "colab": {
          "base_uri": "https://localhost:8080/"
        },
        "outputId": "9124e363-a07a-4aa0-a8e2-22f3326419f4"
      },
      "execution_count": 29,
      "outputs": [
        {
          "output_type": "execute_result",
          "data": {
            "text/plain": [
              "array([[4, 7, 5, 3, 1, 7, 8, 9],\n",
              "       [6, 5, 6, 3, 7, 2, 7, 7],\n",
              "       [5, 5, 2, 3, 4, 6, 9, 9]])"
            ]
          },
          "metadata": {},
          "execution_count": 29
        }
      ]
    },
    {
      "cell_type": "markdown",
      "source": [
        "#Завдання 9\n",
        "Створіть випадкову матрицю розміром 3х4. Знайдіть середнє арифметичне(mean) кожного стовпчика"
      ],
      "metadata": {
        "id": "jVE8280acszi"
      }
    },
    {
      "cell_type": "code",
      "source": [
        "arr = np.random.randint(1, 10, (3,4))\n",
        "\n",
        "x1 = arr[:, 0]\n",
        "x2 = arr[:, 1]\n",
        "x3 = arr[:, 2]\n",
        "x4 = arr[:, 3]\n",
        "\n",
        "meanx1 = np.mean(x1)\n",
        "meanx2 = np.mean(x2)\n",
        "meanx3 = np.mean(x3)\n",
        "meanx4 = np.mean(x4)\n",
        "print(meanx1, meanx2, meanx3, meanx4)"
      ],
      "metadata": {
        "id": "5QI6HPNHhXd4",
        "outputId": "687b2d7e-c678-4714-86d0-1a214cfdd0b9",
        "colab": {
          "base_uri": "https://localhost:8080/"
        }
      },
      "execution_count": 35,
      "outputs": [
        {
          "output_type": "stream",
          "name": "stdout",
          "text": [
            "5.666666666666667 6.0 4.0 5.666666666666667\n"
          ]
        }
      ]
    },
    {
      "cell_type": "markdown",
      "source": [
        "#Завдання 10\n",
        "Є матриця з ймовірностями того, що зображення(рядки) належить певному класу(стовпчики). Для кожного зображення(рядка) знайдіть індекс класу(стовпчика) з найбільшою ймовірністю"
      ],
      "metadata": {
        "id": "nK6LwLjfc9aC"
      }
    },
    {
      "cell_type": "code",
      "source": [
        "x = np.array([[0.2 , 0.3 , 0.23, 0.07, 0.03, 0.17],\n",
        "              [0.15, 0.06, 0.21, 0.12, 0.24, 0.24],\n",
        "              [0.1 , 0.21, 0.03, 0.07, 0.31, 0.28],\n",
        "              [0.21, 0.24, 0.03, 0.18, 0.12, 0.21],\n",
        "              [0.19, 0.25, 0.25, 0.06, 0.12, 0.12]])\n",
        "\n",
        "np.argmax(x, axis=1)"
      ],
      "metadata": {
        "id": "pERBNp12hX58",
        "outputId": "e7a5c72a-887e-4bc9-bdde-e044124f0000",
        "colab": {
          "base_uri": "https://localhost:8080/"
        }
      },
      "execution_count": 38,
      "outputs": [
        {
          "output_type": "execute_result",
          "data": {
            "text/plain": [
              "array([1, 4, 4, 1, 1])"
            ]
          },
          "metadata": {},
          "execution_count": 38
        }
      ]
    },
    {
      "cell_type": "markdown",
      "source": [
        "Пояснення: в першому рядку найбільша ймовірність -- 0.3 під індексом 1\n",
        "\n",
        "в другому рядку -- 0.24 під індексом 4\n",
        "\n",
        "в третьому рядку -- 0.31 під індексом 4\n",
        "\n",
        "в четвертому рядку -- 0.24 під індексом 1\n",
        "\n",
        "в п'ятому рядку -- 0.25 під індексом 1(там є ще одне 0.25, але ми беремо те що з меншим індексом)\n"
      ],
      "metadata": {
        "id": "9aarGgUP2TaX"
      }
    },
    {
      "cell_type": "markdown",
      "source": [
        "#Завдання 11\n",
        "В даній матриці знайдіть всі елементи зі значенням між 3 і 6\n",
        "\n",
        "Дивись документацію np.logical_and"
      ],
      "metadata": {
        "id": "faCqq4bxiXsg"
      }
    },
    {
      "cell_type": "code",
      "source": [
        "X = np.array([[1, 2, 3, 4, 5],\n",
        "              [6, 7, 8, 9, 10],\n",
        "              [9, 8, 7, 6, 5],\n",
        "              [4, 3, 2, 1, 0]])\n",
        "\n",
        "\n",
        "mask = np.logical_and(X > 3, X < 6)\n",
        "X[mask]"
      ],
      "metadata": {
        "id": "01ZY_c-tilOF",
        "colab": {
          "base_uri": "https://localhost:8080/"
        },
        "outputId": "aabf36dd-3593-4dae-ae17-29ce41ed181e"
      },
      "execution_count": 40,
      "outputs": [
        {
          "output_type": "execute_result",
          "data": {
            "text/plain": [
              "array([4, 5, 5, 4])"
            ]
          },
          "metadata": {},
          "execution_count": 40
        }
      ]
    },
    {
      "cell_type": "markdown",
      "source": [
        "#Завдання 12\n",
        "Створіть випадкову матрицю розміру 5х6. Нормалізуйте стовпчики: від кожного елемента ставпчика відніміть мінімальне значення та поділіть результат на різницю між максимальним та мінімальним елементом цього стовпчика.\n",
        "\n",
        "Після цього всі значення мають бути в межах [0, 1]"
      ],
      "metadata": {
        "id": "cCZSaa3DMKxb"
      }
    },
    {
      "cell_type": "code",
      "source": [
        "matrix = np.random.randint(0, 10, size=(5, 6))\n",
        "matrix"
      ],
      "metadata": {
        "id": "qnOYOAgOMqRi",
        "outputId": "28a3894e-bf67-4a9e-dc04-98f32489c6c0",
        "colab": {
          "base_uri": "https://localhost:8080/"
        }
      },
      "execution_count": 41,
      "outputs": [
        {
          "output_type": "execute_result",
          "data": {
            "text/plain": [
              "array([[1, 4, 5, 6, 8, 6],\n",
              "       [0, 5, 3, 5, 9, 6],\n",
              "       [3, 1, 1, 6, 2, 1],\n",
              "       [9, 5, 5, 7, 5, 2],\n",
              "       [6, 1, 5, 6, 3, 0]])"
            ]
          },
          "metadata": {},
          "execution_count": 41
        }
      ]
    },
    {
      "cell_type": "code",
      "source": [
        "min_val = matrix.min(axis=0)\n",
        "max_val = matrix.max(axis=0)\n",
        "\n",
        "matrix_normalized = (matrix - min_val) / (max_val - min_val)\n",
        "matrix_normalized"
      ],
      "metadata": {
        "id": "d60tOdfg0vn2",
        "colab": {
          "base_uri": "https://localhost:8080/"
        },
        "outputId": "4b847747-024e-4ea3-c469-26b49e34ecc8"
      },
      "execution_count": 49,
      "outputs": [
        {
          "output_type": "execute_result",
          "data": {
            "text/plain": [
              "array([[0.11111111, 0.75      , 1.        , 0.5       , 0.85714286,\n",
              "        1.        ],\n",
              "       [0.        , 1.        , 0.5       , 0.        , 1.        ,\n",
              "        1.        ],\n",
              "       [0.33333333, 0.        , 0.        , 0.5       , 0.        ,\n",
              "        0.16666667],\n",
              "       [1.        , 1.        , 1.        , 1.        , 0.42857143,\n",
              "        0.33333333],\n",
              "       [0.66666667, 0.        , 1.        , 0.5       , 0.14285714,\n",
              "        0.        ]])"
            ]
          },
          "metadata": {},
          "execution_count": 49
        }
      ]
    }
  ]
}